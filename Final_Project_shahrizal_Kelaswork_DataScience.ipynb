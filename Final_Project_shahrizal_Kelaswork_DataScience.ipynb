{
  "nbformat": 4,
  "nbformat_minor": 0,
  "metadata": {
    "colab": {
      "provenance": []
    },
    "kernelspec": {
      "name": "python3",
      "display_name": "Python 3"
    },
    "language_info": {
      "name": "python"
    }
  },
  "cells": [
    {
      "cell_type": "code",
      "execution_count": null,
      "metadata": {
        "id": "RoHq81snUNtQ"
      },
      "outputs": [],
      "source": [
        "import pandas as pd\n",
        "import numpy as np"
      ]
    },
    {
      "cell_type": "code",
      "source": [
        "# Membuat list berisi data transaksi\n",
        "transaction_amounts = [100, 150, 50, 100, 130, 120, 100, 85, 70, 150, 150, 120, 50, 100, 100, 140, 90, 150, 50, 90, 120, 100, 110, 75, 65]\n",
        "\n",
        "# Membuat data frame dari list yang telah disusun\n",
        "TransactionAmount = pd.DataFrame({'Transaction Amount': transaction_amounts})\n",
        "\n",
        "# menampilkan atau print data frame tersebut\n",
        "print(TransactionAmount )\n",
        "TransactionAmount.info()\n"
      ],
      "metadata": {
        "colab": {
          "base_uri": "https://localhost:8080/"
        },
        "id": "b1xH42eqUpt7",
        "outputId": "8be36ce6-8e58-44d9-b961-e3cc5e6f5454"
      },
      "execution_count": null,
      "outputs": [
        {
          "output_type": "stream",
          "name": "stdout",
          "text": [
            "    Transaction Amount\n",
            "0                  100\n",
            "1                  150\n",
            "2                   50\n",
            "3                  100\n",
            "4                  130\n",
            "5                  120\n",
            "6                  100\n",
            "7                   85\n",
            "8                   70\n",
            "9                  150\n",
            "10                 150\n",
            "11                 120\n",
            "12                  50\n",
            "13                 100\n",
            "14                 100\n",
            "15                 140\n",
            "16                  90\n",
            "17                 150\n",
            "18                  50\n",
            "19                  90\n",
            "20                 120\n",
            "21                 100\n",
            "22                 110\n",
            "23                  75\n",
            "24                  65\n",
            "<class 'pandas.core.frame.DataFrame'>\n",
            "RangeIndex: 25 entries, 0 to 24\n",
            "Data columns (total 1 columns):\n",
            " #   Column              Non-Null Count  Dtype\n",
            "---  ------              --------------  -----\n",
            " 0   Transaction Amount  25 non-null     int64\n",
            "dtypes: int64(1)\n",
            "memory usage: 328.0 bytes\n"
          ]
        }
      ]
    },
    {
      "cell_type": "code",
      "source": [
        "# Menghitung measures of central tendency\n",
        "rataan = TransactionAmount['Transaction Amount'].mean()\n",
        "median = TransactionAmount['Transaction Amount'].median()\n",
        "modus = TransactionAmount['Transaction Amount'].mode()\n",
        "q1 = TransactionAmount['Transaction Amount'].quantile(0.25)\n",
        "q3 = TransactionAmount['Transaction Amount'].quantile(0.75)\n",
        "\n",
        "# Menampilkan hasil perhitungan\n",
        "print(f\"Mean = {rataan}\")\n",
        "print(f\"Median = {median}\")\n",
        "print(f\"Modus = {modus}\")\n",
        "print(f\"q1 = {q1}\")\n",
        "print(f\"q3 = {q3}\")"
      ],
      "metadata": {
        "colab": {
          "base_uri": "https://localhost:8080/"
        },
        "id": "IPCp9vvxV7MF",
        "outputId": "270b2850-4461-4a71-c9d0-29cecfee332d"
      },
      "execution_count": null,
      "outputs": [
        {
          "output_type": "stream",
          "name": "stdout",
          "text": [
            "Mean = 102.6\n",
            "Median = 100.0\n",
            "Modus = 0    100\n",
            "Name: Transaction Amount, dtype: int64\n",
            "q1 = 85.0\n",
            "q3 = 120.0\n"
          ]
        }
      ]
    },
    {
      "cell_type": "markdown",
      "source": [
        "# Perhitungan Measures of variability"
      ],
      "metadata": {
        "id": "7Tt0FzOQYPkX"
      }
    },
    {
      "cell_type": "code",
      "source": [
        "# Menghitung measures of variability\n",
        "interval_data = TransactionAmount['Transaction Amount'].max() - TransactionAmount['Transaction Amount'].min()\n",
        "ragam = TransactionAmount['Transaction Amount'].var()\n",
        "std_deviasi = TransactionAmount['Transaction Amount'].std()\n",
        "\n",
        "# menampilkan hasil perhitungan\n",
        "print(f\"Range = {interval_data}\")\n",
        "print(f\"Variance = {ragam}\")\n",
        "print(f\"Standard Deviation = {std_deviasi}\")\n"
      ],
      "metadata": {
        "colab": {
          "base_uri": "https://localhost:8080/"
        },
        "id": "cIrmKLMjXYoS",
        "outputId": "751f5676-0343-416e-9125-9f5d7930ebfb"
      },
      "execution_count": null,
      "outputs": [
        {
          "output_type": "stream",
          "name": "stdout",
          "text": [
            "Range = 100\n",
            "Variance = 1012.7499999999999\n",
            "Standard Deviation = 31.823733281939123\n"
          ]
        }
      ]
    },
    {
      "cell_type": "markdown",
      "source": [
        "# Uji Hipotesis pada dataset"
      ],
      "metadata": {
        "id": "njbPm1o2YKkK"
      }
    },
    {
      "cell_type": "code",
      "source": [
        "import scipy.stats as stats\n",
        "\n",
        "# mensetting uji hipotesis berdasarkan rata-rata\n",
        "# H0 : Rata-rata transaksi sama 100\n",
        "# H1 : Rata-rata transaksi tidak sama dengan 100\n",
        "tes = 100\n",
        "\n",
        "# Melakukan uji hipotesis\n",
        "t_stat, p_value = stats.ttest_1samp(TransactionAmount, tes)\n",
        "\n",
        "# Menampilkan hasil perhitungan uji hipotesis\n",
        "print(f\"T-statistic: {t_stat}\")\n",
        "print(f\"P-value: {p_value}\")\n",
        "\n",
        "# Melakukan cek untuk uji tes hipotesis pada alpha (e.g., 0.05)\n",
        "alpha < 0.05\n",
        "if p_value <= alpha:\n",
        "    print(\"Rata-rata transaksi sama dengan 100\")\n",
        "else:\n",
        "    print(\"Rata-rata transaksi tidak sama dengan 100\")\n"
      ],
      "metadata": {
        "colab": {
          "base_uri": "https://localhost:8080/"
        },
        "id": "52kNmXymX10h",
        "outputId": "9bd6aa34-65f4-4d5d-c176-1732fa528db7"
      },
      "execution_count": null,
      "outputs": [
        {
          "output_type": "stream",
          "name": "stdout",
          "text": [
            "T-statistic: [0.40850016]\n",
            "P-value: [0.68652848]\n",
            "Rata-rata transaksi tidak sama dengan 100\n"
          ]
        }
      ]
    },
    {
      "cell_type": "markdown",
      "source": [
        "# **Interpretasi Hasil**"
      ],
      "metadata": {
        "id": "e_uH3HUKtw3U"
      }
    },
    {
      "cell_type": "markdown",
      "source": [
        "Nilai rata-rata pada 25 transaksi keuangan sebesar 102.6 dengan nilai transaksi paling banyak dilakukan sebesar 100. Selain itu, nilai transaksi paling tinggi (maksimal) sebesar 150 dan terendahnya sebesar (minimal) sebesar 50.\n",
        "\n"
      ],
      "metadata": {
        "id": "Gp5hK4mWt34w"
      }
    },
    {
      "cell_type": "markdown",
      "source": [
        "Adapun ragam (variance) transaksi pada data tersebut hampir mendekati nilai rata-ratanya sehingga dapat dikatakan bahwa nilai transaksi pada data tersebut berada pada nilai transaksi sebesar 102.6, atau menyebar diantara nilaiu rata-rata transaksi.  "
      ],
      "metadata": {
        "id": "1LqMPoiOuxqH"
      }
    },
    {
      "cell_type": "markdown",
      "source": [
        "Dari hasil uji hipotesis terhadap nilai tes rata-rata transaksi sebesar 100 membuktikan tolak H0. Dengan kata lain bahwa nilai tersebut tidak sama 100."
      ],
      "metadata": {
        "id": "h-jrlygwvDKt"
      }
    }
  ]
}